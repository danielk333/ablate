{
 "cells": [
  {
   "cell_type": "markdown",
   "id": "345f8336",
   "metadata": {},
   "source": [
    "# How to add a new ablation model with atmosphere support"
   ]
  },
  {
   "cell_type": "code",
   "execution_count": 1,
   "id": "0e1d1f1b",
   "metadata": {},
   "outputs": [
    {
     "name": "stdout",
     "output_type": "stream",
     "text": [
      "0.1.0\n"
     ]
    }
   ],
   "source": [
    "import ablate\n",
    "print(ablate.__version__)"
   ]
  },
  {
   "cell_type": "markdown",
   "id": "3507502f",
   "metadata": {},
   "source": [
    "We cant create a new ablation model without also initializing a new `ATMOSPHERES` variable."
   ]
  },
  {
   "cell_type": "code",
   "execution_count": 2,
   "id": "1e2f56af",
   "metadata": {},
   "outputs": [],
   "source": [
    "class A(ablate.AblationModel):\n",
    "    def run(self, *args, **kwargs):\n",
    "        pass"
   ]
  },
  {
   "cell_type": "markdown",
   "id": "418900de",
   "metadata": {},
   "source": [
    "If we do, atmosphere registration is going to fail"
   ]
  },
  {
   "cell_type": "code",
   "execution_count": 3,
   "id": "92359c63",
   "metadata": {},
   "outputs": [
    {
     "ename": "TypeError",
     "evalue": "'NoneType' object does not support item assignment",
     "output_type": "error",
     "traceback": [
      "\u001b[0;31m---------------------------------------------------------------------------\u001b[0m",
      "\u001b[0;31mTypeError\u001b[0m                                 Traceback (most recent call last)",
      "\u001b[0;32m~/tmp/ipykernel_1501250/1438654536.py\u001b[0m in \u001b[0;36m<module>\u001b[0;34m\u001b[0m\n\u001b[0;32m----> 1\u001b[0;31m \u001b[0mA\u001b[0m\u001b[0;34m.\u001b[0m\u001b[0m_register_atmosphere\u001b[0m\u001b[0;34m(\u001b[0m\u001b[0;34m'my_atm'\u001b[0m\u001b[0;34m,\u001b[0m \u001b[0;32mlambda\u001b[0m \u001b[0mx\u001b[0m\u001b[0;34m:\u001b[0m \u001b[0;32mNone\u001b[0m\u001b[0;34m,\u001b[0m \u001b[0;34m{\u001b[0m\u001b[0;34m'my_meta'\u001b[0m\u001b[0;34m:\u001b[0m\u001b[0;32mNone\u001b[0m\u001b[0;34m}\u001b[0m\u001b[0;34m)\u001b[0m\u001b[0;34m\u001b[0m\u001b[0;34m\u001b[0m\u001b[0m\n\u001b[0m",
      "\u001b[0;32m~/git/ablate/src/ablate/core.py\u001b[0m in \u001b[0;36m_register_atmosphere\u001b[0;34m(cls, atmosphere, data_getter, meta)\u001b[0m\n\u001b[1;32m     37\u001b[0m     \u001b[0;34m@\u001b[0m\u001b[0mclassmethod\u001b[0m\u001b[0;34m\u001b[0m\u001b[0;34m\u001b[0m\u001b[0m\n\u001b[1;32m     38\u001b[0m     \u001b[0;32mdef\u001b[0m \u001b[0m_register_atmosphere\u001b[0m\u001b[0;34m(\u001b[0m\u001b[0mcls\u001b[0m\u001b[0;34m,\u001b[0m \u001b[0matmosphere\u001b[0m\u001b[0;34m,\u001b[0m \u001b[0mdata_getter\u001b[0m\u001b[0;34m,\u001b[0m \u001b[0mmeta\u001b[0m\u001b[0;34m)\u001b[0m\u001b[0;34m:\u001b[0m\u001b[0;34m\u001b[0m\u001b[0;34m\u001b[0m\u001b[0m\n\u001b[0;32m---> 39\u001b[0;31m         \u001b[0mcls\u001b[0m\u001b[0;34m.\u001b[0m\u001b[0mATMOSPHERES\u001b[0m\u001b[0;34m[\u001b[0m\u001b[0matmosphere\u001b[0m\u001b[0;34m]\u001b[0m \u001b[0;34m=\u001b[0m \u001b[0;34m(\u001b[0m\u001b[0mdata_getter\u001b[0m\u001b[0;34m,\u001b[0m \u001b[0mmeta\u001b[0m\u001b[0;34m)\u001b[0m\u001b[0;34m\u001b[0m\u001b[0;34m\u001b[0m\u001b[0m\n\u001b[0m\u001b[1;32m     40\u001b[0m \u001b[0;34m\u001b[0m\u001b[0m\n\u001b[1;32m     41\u001b[0m     \u001b[0;34m@\u001b[0m\u001b[0mclassmethod\u001b[0m\u001b[0;34m\u001b[0m\u001b[0;34m\u001b[0m\u001b[0m\n",
      "\u001b[0;31mTypeError\u001b[0m: 'NoneType' object does not support item assignment"
     ]
    }
   ],
   "source": [
    "A._register_atmosphere('my_atm', lambda x: None, {'my_meta':None})"
   ]
  },
  {
   "cell_type": "markdown",
   "id": "adb8b00e",
   "metadata": {},
   "source": [
    "So we create a new model like this"
   ]
  },
  {
   "cell_type": "code",
   "execution_count": 4,
   "id": "97d58c5c",
   "metadata": {},
   "outputs": [],
   "source": [
    "class B(ablate.AblationModel):\n",
    "    ATMOSPHERES = {}\n",
    "    def run(self, *args, **kwargs):\n",
    "        pass"
   ]
  },
  {
   "cell_type": "markdown",
   "id": "ec599b34",
   "metadata": {},
   "source": [
    "We can then register a new atmosphere"
   ]
  },
  {
   "cell_type": "code",
   "execution_count": 5,
   "id": "c6b0e2b1",
   "metadata": {},
   "outputs": [
    {
     "name": "stdout",
     "output_type": "stream",
     "text": [
      "Before: {}\n",
      "After : {'my_atm': (<function <lambda> at 0x7f67412d8700>, {'my_meta': None})}\n"
     ]
    }
   ],
   "source": [
    "print(f'Before: {B.ATMOSPHERES}')\n",
    "B._register_atmosphere('my_atm', lambda x: None, {'my_meta':None})\n",
    "print(f'After : {B.ATMOSPHERES}')"
   ]
  },
  {
   "cell_type": "markdown",
   "id": "29667c30",
   "metadata": {},
   "source": [
    "And create a instance of that model"
   ]
  },
  {
   "cell_type": "code",
   "execution_count": 6,
   "id": "82438eba",
   "metadata": {},
   "outputs": [
    {
     "name": "stdout",
     "output_type": "stream",
     "text": [
      "<__main__.B object at 0x7f67b4558a60>\n"
     ]
    }
   ],
   "source": [
    "b = B(atmosphere='my_atm')\n",
    "print(b)"
   ]
  },
  {
   "cell_type": "markdown",
   "id": "95664d58",
   "metadata": {},
   "source": [
    "If we try with a non-supported atmosphere it wont work"
   ]
  },
  {
   "cell_type": "code",
   "execution_count": 7,
   "id": "7ea898ad",
   "metadata": {},
   "outputs": [
    {
     "ename": "ValueError",
     "evalue": "\"cool_atm\" is not a supported by \"<class '__main__.B'>\"",
     "output_type": "error",
     "traceback": [
      "\u001b[0;31m---------------------------------------------------------------------------\u001b[0m",
      "\u001b[0;31mValueError\u001b[0m                                Traceback (most recent call last)",
      "\u001b[0;32m~/tmp/ipykernel_1501250/3619969186.py\u001b[0m in \u001b[0;36m<module>\u001b[0;34m\u001b[0m\n\u001b[0;32m----> 1\u001b[0;31m \u001b[0mcool_b\u001b[0m \u001b[0;34m=\u001b[0m \u001b[0mB\u001b[0m\u001b[0;34m(\u001b[0m\u001b[0matmosphere\u001b[0m\u001b[0;34m=\u001b[0m\u001b[0;34m'cool_atm'\u001b[0m\u001b[0;34m)\u001b[0m\u001b[0;34m\u001b[0m\u001b[0;34m\u001b[0m\u001b[0m\n\u001b[0m",
      "\u001b[0;32m~/git/ablate/src/ablate/core.py\u001b[0m in \u001b[0;36m__init__\u001b[0;34m(self, atmosphere, options, **kwargs)\u001b[0m\n\u001b[1;32m     25\u001b[0m \u001b[0;34m\u001b[0m\u001b[0m\n\u001b[1;32m     26\u001b[0m         \u001b[0;32mif\u001b[0m \u001b[0matmosphere\u001b[0m \u001b[0;32mnot\u001b[0m \u001b[0;32min\u001b[0m \u001b[0mself\u001b[0m\u001b[0;34m.\u001b[0m\u001b[0mATMOSPHERES\u001b[0m\u001b[0;34m:\u001b[0m\u001b[0;34m\u001b[0m\u001b[0;34m\u001b[0m\u001b[0m\n\u001b[0;32m---> 27\u001b[0;31m             \u001b[0;32mraise\u001b[0m \u001b[0mValueError\u001b[0m\u001b[0;34m(\u001b[0m\u001b[0;34mf'\"{atmosphere}\" is not a supported by \"{self.__class__}\"'\u001b[0m\u001b[0;34m)\u001b[0m\u001b[0;34m\u001b[0m\u001b[0;34m\u001b[0m\u001b[0m\n\u001b[0m\u001b[1;32m     28\u001b[0m         \u001b[0mself\u001b[0m\u001b[0;34m.\u001b[0m\u001b[0matmosphere\u001b[0m \u001b[0;34m=\u001b[0m \u001b[0matmosphere\u001b[0m\u001b[0;34m\u001b[0m\u001b[0;34m\u001b[0m\u001b[0m\n\u001b[1;32m     29\u001b[0m \u001b[0;34m\u001b[0m\u001b[0m\n",
      "\u001b[0;31mValueError\u001b[0m: \"cool_atm\" is not a supported by \"<class '__main__.B'>\""
     ]
    }
   ],
   "source": [
    "cool_b = B(atmosphere='cool_atm')"
   ]
  },
  {
   "cell_type": "markdown",
   "id": "58775261",
   "metadata": {},
   "source": [
    "We can also subclass existing ablation models, if we want them to inherrit the atmosphere support we simply do not override the `ATMOSPHERES` variable"
   ]
  },
  {
   "cell_type": "code",
   "execution_count": 8,
   "id": "65cbbe6f",
   "metadata": {},
   "outputs": [
    {
     "name": "stdout",
     "output_type": "stream",
     "text": [
      "C: {'my_atm': (<function <lambda> at 0x7f67412d8700>, {'my_meta': None})}\n",
      "<class '__main__.C'>\n"
     ]
    }
   ],
   "source": [
    "class C(B):\n",
    "    pass\n",
    "print(f'C: {C.ATMOSPHERES}')\n",
    "\n",
    "c = C(atmosphere='my_atm')\n",
    "print(C)"
   ]
  },
  {
   "cell_type": "markdown",
   "id": "dda30edf",
   "metadata": {},
   "source": [
    "There are also options to sublcass pre-defined extensions of `AblationModel` that provide different convenience, for example a class that wrapps the scipy `solve_ivp` method of solving Ordinary differential equations:"
   ]
  },
  {
   "cell_type": "code",
   "execution_count": 9,
   "id": "fadac71a",
   "metadata": {},
   "outputs": [],
   "source": [
    "#Here we need to define the right-hand-side (rhs) of the differential equation as well.\n",
    "class D(ablate.ScipyODESolve):\n",
    "    ATMOSPHERES = {}\n",
    "    \n",
    "    def run(self, y0):\n",
    "        return self.integrate(y0)\n",
    "\n",
    "    def rhs(self, t, m, y):\n",
    "        return -m\n",
    "\n",
    "D._register_atmosphere('my_atm', lambda x: None, {'my_meta':None})\n",
    "\n",
    "d = D(atmosphere='my_atm')"
   ]
  },
  {
   "cell_type": "markdown",
   "id": "a16f5b0a",
   "metadata": {},
   "source": [
    "If we run the model it will solve the differential equation\n",
    "$$\n",
    "\\frac{\\mathrm{d}m}{\\mathrm{d}t} = -m\\\\\n",
    "\\frac{\\mathrm{d}y}{\\mathrm{d}t} = 0\n",
    "$$"
   ]
  },
  {
   "cell_type": "code",
   "execution_count": 10,
   "id": "5389ac10",
   "metadata": {},
   "outputs": [
    {
     "name": "stderr",
     "output_type": "stream",
     "text": [
      "/home/danielk/.cache/pypoetry/virtualenvs/ablate-mCu_vN2k-py3.9/lib/python3.9/site-packages/scipy/integrate/_ivp/common.py:39: UserWarning: The following arguments have no effect for a chosen solver: `options`.\n",
      "  warn(\"The following arguments have no effect for a chosen solver: {}.\"\n"
     ]
    }
   ],
   "source": [
    "import numpy as np\n",
    "import matplotlib.pyplot as plt\n",
    "\n",
    "result = d.run(np.array([1.0, 0]))"
   ]
  },
  {
   "cell_type": "code",
   "execution_count": 11,
   "id": "5fdfcc80",
   "metadata": {},
   "outputs": [
    {
     "data": {
      "text/plain": [
       "  message: 'A termination event occurred.'\n",
       "     nfev: 151976\n",
       "     njev: 0\n",
       "      nlu: 0\n",
       "      sol: <scipy.integrate._ivp.common.OdeSolution object at 0x7f673c8b4970>\n",
       "   status: 1\n",
       "  success: True\n",
       "        t: array([0.0000000e+00, 9.9900050e-04, 1.9990005e-03, ..., 2.5326999e+01,\n",
       "       2.5327999e+01, 2.5328436e+01])\n",
       " t_events: [array([25.32843602])]\n",
       "        y: array([[ 1.00000000e+00,  9.99001498e-01,  9.98002996e-01, ...,\n",
       "         1.00143806e-11,  1.00043712e-11,  1.00000000e-11],\n",
       "       [ 0.00000000e+00, -9.98501666e-04, -1.99700383e-03, ...,\n",
       "        -1.00000000e+00, -1.00000000e+00, -1.00000000e+00]])\n",
       " y_events: [array([[ 1.e-11, -1.e+00]])]"
      ]
     },
     "execution_count": 11,
     "metadata": {},
     "output_type": "execute_result"
    }
   ],
   "source": [
    "result"
   ]
  },
  {
   "cell_type": "code",
   "execution_count": 17,
   "id": "16a312b2",
   "metadata": {},
   "outputs": [
    {
     "data": {
      "text/plain": [
       "Text(0.5, 1.0, 'example of new model')"
      ]
     },
     "execution_count": 17,
     "metadata": {},
     "output_type": "execute_result"
    },
    {
     "data": {
      "image/png": "[encoded data removed]",
      "text/plain": [
       "<Figure size 432x288 with 1 Axes>"
      ]
     },
     "metadata": {
      "needs_background": "light"
     },
     "output_type": "display_data"
    }
   ],
   "source": [
    "fig, ax = plt.subplots()\n",
    "ax.plot(result.t, np.log10(result.y[0,:]))\n",
    "ax.set_xlabel('Time [s]')\n",
    "ax.set_ylabel('log10(m) [kg]')\n",
    "ax.set_title('example of new model')"
   ]
  },
  {
   "cell_type": "code",
   "execution_count": null,
   "id": "247dad13",
   "metadata": {},
   "outputs": [],
   "source": []
  }
 ],
 "metadata": {
  "kernelspec": {
   "display_name": "Python 3 (ipykernel)",
   "language": "python",
   "name": "python3"
  },
  "language_info": {
   "codemirror_mode": {
    "name": "ipython",
    "version": 3
   },
   "file_extension": ".py",
   "mimetype": "text/x-python",
   "name": "python",
   "nbconvert_exporter": "python",
   "pygments_lexer": "ipython3",
   "version": "3.9.7"
  }
 },
 "nbformat": 4,
 "nbformat_minor": 5
}
